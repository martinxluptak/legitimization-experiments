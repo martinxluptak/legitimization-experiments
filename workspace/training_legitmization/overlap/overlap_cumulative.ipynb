{
 "cells": [
  {
   "cell_type": "code",
   "execution_count": 2,
   "metadata": {},
   "outputs": [],
   "source": [
    "import pandas as pd"
   ]
  },
  {
   "cell_type": "code",
   "execution_count": 6,
   "metadata": {},
   "outputs": [],
   "source": [
    "df = pd.read_csv('overlap.csv', header=None)"
   ]
  },
  {
   "cell_type": "code",
   "execution_count": 17,
   "metadata": {},
   "outputs": [],
   "source": [
    "import pandas as pd\n",
    "import numpy as np\n",
    "import matplotlib.pyplot as plt\n",
    "\n",
    "def conv_index_to_bins(index):\n",
    "    \"\"\"Calculate bins to contain the index values.\n",
    "    The start and end bin boundaries are linearly extrapolated from \n",
    "    the two first and last values. The middle bin boundaries are \n",
    "    midpoints.\n",
    "\n",
    "    Example 1: [0, 1] -> [-0.5, 0.5, 1.5]\n",
    "    Example 2: [0, 1, 4] -> [-0.5, 0.5, 2.5, 5.5]\n",
    "    Example 3: [4, 1, 0] -> [5.5, 2.5, 0.5, -0.5]\"\"\"\n",
    "    assert index.is_monotonic_increasing or index.is_monotonic_decreasing\n",
    "\n",
    "    # the beginning and end values are guessed from first and last two\n",
    "    start = index[0] - (index[1]-index[0])/2\n",
    "    end = index[-1] + (index[-1]-index[-2])/2\n",
    "\n",
    "    # the middle values are the midpoints\n",
    "    middle = pd.DataFrame({'m1': index[:-1], 'p1': index[1:]})\n",
    "    middle = middle['m1'] + (middle['p1']-middle['m1'])/2\n",
    "\n",
    "    if isinstance(index, pd.DatetimeIndex):\n",
    "        idx = pd.DatetimeIndex(middle).union([start,end])\n",
    "    elif isinstance(index, (pd.Float64Index,pd.RangeIndex,pd.Int64Index)):\n",
    "        idx = pd.Float64Index(middle).union([start,end])\n",
    "    else:\n",
    "        print('Warning: guessing what to do with index type %s' % \n",
    "              type(index))\n",
    "        idx = pd.Float64Index(middle).union([start,end])\n",
    "\n",
    "    return idx.sort_values(ascending=index.is_monotonic_increasing)\n",
    "\n",
    "def calc_df_mesh(df):\n",
    "    \"\"\"Calculate the two-dimensional bins to hold the index and \n",
    "    column values.\"\"\"\n",
    "    return np.meshgrid(conv_index_to_bins(df.index),\n",
    "                       conv_index_to_bins(df.columns))\n",
    "\n",
    "def heatmap(df):\n",
    "    \"\"\"Plot a heatmap of the dataframe values using the index and \n",
    "    columns\"\"\"\n",
    "    X,Y = calc_df_mesh(df)\n",
    "    c = plt.pcolormesh(X, Y, df.values.T)\n",
    "    plt.colorbar(c)"
   ]
  },
  {
   "cell_type": "code",
   "execution_count": 26,
   "metadata": {},
   "outputs": [
    {
     "data": {
      "text/plain": [
       "0      0.835938\n",
       "1      0.984127\n",
       "2      0.628866\n",
       "3      0.454545\n",
       "4      1.000000\n",
       "         ...   \n",
       "346    0.010638\n",
       "347    1.000000\n",
       "348    0.622642\n",
       "349    1.000000\n",
       "350    1.000000\n",
       "Name: 3, Length: 351, dtype: float64"
      ]
     },
     "execution_count": 26,
     "metadata": {},
     "output_type": "execute_result"
    }
   ],
   "source": [
    "vc = df[3].value_counts().reset_index()"
   ]
  },
  {
   "cell_type": "code",
   "execution_count": 34,
   "metadata": {},
   "outputs": [
    {
     "data": {
      "text/plain": [
       "array([[<matplotlib.axes._subplots.AxesSubplot object at 0x7fef828fc610>,\n",
       "        <matplotlib.axes._subplots.AxesSubplot object at 0x7fef829135d0>]],\n",
       "      dtype=object)"
      ]
     },
     "execution_count": 34,
     "metadata": {},
     "output_type": "execute_result"
    },
    {
     "data": {
      "image/png": "[encoded data removed]",
      "text/plain": [
       "<Figure size 432x288 with 2 Axes>"
      ]
     },
     "metadata": {
      "needs_background": "light"
     },
     "output_type": "display_data"
    }
   ],
   "source": [
    "vc.hist(bins=10)"
   ]
  },
  {
   "cell_type": "code",
   "execution_count": 38,
   "metadata": {},
   "outputs": [
    {
     "data": {
      "text/plain": [
       "<matplotlib.axes._subplots.AxesSubplot at 0x7fef82aa9110>"
      ]
     },
     "execution_count": 38,
     "metadata": {},
     "output_type": "execute_result"
    },
    {
     "data": {
      "image/png": "[encoded data removed]",
      "text/plain": [
       "<Figure size 432x288 with 1 Axes>"
      ]
     },
     "metadata": {
      "needs_background": "light"
     },
     "output_type": "display_data"
    }
   ],
   "source": [
    "vc.plot.density()"
   ]
  },
  {
   "cell_type": "code",
   "execution_count": 45,
   "metadata": {},
   "outputs": [
    {
     "name": "stdout",
     "output_type": "stream",
     "text": [
      "[0.0106383  0.06122449 0.14285714 0.2231405  0.24744296 0.2625\n",
      " 0.26515152 0.29850746 0.3        0.30263158 0.31666667 0.33653846\n",
      " 0.34545455 0.35616438 0.37113402 0.38541667 0.39361702 0.40540541\n",
      " 0.41025641 0.41538462 0.41573034 0.42028986 0.42857143 0.44444444\n",
      " 0.45205479 0.45454545 0.45454545 0.45555556 0.45945946 0.47560976\n",
      " 0.47619048 0.48484848 0.48648649 0.49253731 0.4939759  0.49473684\n",
      " 0.49606299 0.5        0.5        0.5        0.50746269 0.51111111\n",
      " 0.52307692 0.53       0.53543307 0.53676471 0.53703704 0.54054054\n",
      " 0.54117647 0.54878049 0.55384615 0.57954545 0.59223301 0.59836066\n",
      " 0.60952381 0.61038961 0.61320755 0.62264151 0.62589928 0.62745098\n",
      " 0.62886598 0.6328125  0.64347826 0.64615385 0.64705882 0.64705882\n",
      " 0.64948454 0.65277778 0.65482234 0.65517241 0.65625    0.65740741\n",
      " 0.66666667 0.66666667 0.66666667 0.67010309 0.67142857 0.6779661\n",
      " 0.68041237 0.68333333 0.68493151 0.69072165 0.69230769 0.70114943\n",
      " 0.70434783 0.70807453 0.72340426 0.72527473 0.7260274  0.72857143\n",
      " 0.7311828  0.73684211 0.74193548 0.74603175 0.74725275 0.75384615\n",
      " 0.76119403 0.76415094 0.76666667 0.76767677 0.76811594 0.76923077\n",
      " 0.76984127 0.77165354 0.77669903 0.77966102 0.78       0.78125\n",
      " 0.7826087  0.78571429 0.79090909 0.79166667 0.79518072 0.79518072\n",
      " 0.80597015 0.80821918 0.80898876 0.80952381 0.81578947 0.81609195\n",
      " 0.81967213 0.82089552 0.82258065 0.82432432 0.82692308 0.82926829\n",
      " 0.82954545 0.83333333 0.8359375  0.83908046 0.84269663 0.84313725\n",
      " 0.84415584 0.84955752 0.85       0.85294118 0.86131387 0.86538462\n",
      " 0.86666667 0.86666667 0.87272727 0.875      0.88       0.88194444\n",
      " 0.88288288 0.88607595 0.88679245 0.89759036 0.90551181 0.91304348\n",
      " 0.9245283  0.94067797 0.94230769 0.94230769 0.94339623 0.953125\n",
      " 0.95454545 0.96       0.96111111 0.96153846 0.9625     0.96428571\n",
      " 0.96721311 0.97435897 0.97826087 0.98076923 0.98076923 0.98113208\n",
      " 0.98198198 0.98412698 0.98529412 0.99056604 1.         1.\n",
      " 1.         1.         1.         1.         1.         1.\n",
      " 1.         1.         1.         1.         1.         1.\n",
      " 1.         1.         1.         1.         1.         1.\n",
      " 1.         1.         1.         1.         1.         1.\n",
      " 1.         1.         1.         1.         1.         1.\n",
      " 1.         1.         1.         1.         1.         1.\n",
      " 1.         1.         1.         1.         1.         1.\n",
      " 1.         1.         1.         1.         1.         1.\n",
      " 1.         1.         1.         1.         1.         1.\n",
      " 1.         1.         1.         1.         1.         1.\n",
      " 1.         1.         1.         1.         1.         1.\n",
      " 1.         1.         1.         1.         1.         1.\n",
      " 1.         1.         1.         1.         1.         1.\n",
      " 1.         1.         1.         1.         1.         1.\n",
      " 1.         1.         1.         1.         1.         1.\n",
      " 1.         1.         1.         1.         1.         1.\n",
      " 1.         1.         1.         1.         1.         1.\n",
      " 1.         1.         1.         1.         1.         1.\n",
      " 1.         1.         1.         1.         1.         1.\n",
      " 1.         1.         1.         1.         1.         1.\n",
      " 1.         1.         1.         1.         1.         1.\n",
      " 1.         1.         1.         1.         1.         1.\n",
      " 1.         1.         1.         1.         1.         1.\n",
      " 1.         1.         1.         1.         1.         1.\n",
      " 1.         1.         1.         1.         1.         1.\n",
      " 1.         1.         1.         1.         1.         1.\n",
      " 1.         1.         1.         1.         1.         1.\n",
      " 1.         1.         1.         1.         1.         1.\n",
      " 1.         1.         1.         1.         1.         1.\n",
      " 1.         1.                nan]\n"
     ]
    },
    {
     "data": {
      "image/png": "[encoded data removed]",
      "text/plain": [
       "<Figure size 432x288 with 1 Axes>"
      ]
     },
     "metadata": {
      "needs_background": "light"
     },
     "output_type": "display_data"
    }
   ],
   "source": [
    "sorted_data = np.sort(df[3])  # Or data.sort(), if data can be modified\n",
    "\n",
    "print(sorted_data)\n",
    "# Cumulative counts:\n",
    "plt.step(sorted_data, np.arange(sorted_data.size))  # From 0 to the number of data points-1\n",
    "# plt.step(sorted_data[::-1], np.arange(sorted_data.size))  # From the number of data points-1 to 0\n",
    "\n",
    "plt.show()"
   ]
  }
 ],
 "metadata": {
  "kernelspec": {
   "display_name": "bd-faces-venv",
   "language": "python",
   "name": "bd-faces-venv"
  },
  "language_info": {
   "codemirror_mode": {
    "name": "ipython",
    "version": 3
   },
   "file_extension": ".py",
   "mimetype": "text/x-python",
   "name": "python",
   "nbconvert_exporter": "python",
   "pygments_lexer": "ipython3",
   "version": "3.7.6"
  }
 },
 "nbformat": 4,
 "nbformat_minor": 4
}
